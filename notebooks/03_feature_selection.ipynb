{
 "cells": [
  {
   "cell_type": "code",
   "execution_count": 44,
   "id": "901e5f84",
   "metadata": {},
   "outputs": [],
   "source": [
    "import numpy as np\n",
    "import pandas as pd\n",
    "import xgboost as xgb\n",
    "import matplotlib.pyplot as plt\n",
    "from sklearn.metrics import r2_score\n",
    "from sklearn.feature_selection import RFE\n",
    "from sklearn.feature_selection import chi2\n",
    "from sklearn.preprocessing import MinMaxScaler\n",
    "from sklearn.feature_selection import SelectKBest\n",
    "from sklearn.ensemble import RandomForestClassifier\n",
    "from sklearn.model_selection import train_test_split"
   ]
  },
  {
   "cell_type": "code",
   "execution_count": 45,
   "id": "8baa93ed",
   "metadata": {},
   "outputs": [
    {
     "data": {
      "text/html": [
       "<div>\n",
       "<style scoped>\n",
       "    .dataframe tbody tr th:only-of-type {\n",
       "        vertical-align: middle;\n",
       "    }\n",
       "\n",
       "    .dataframe tbody tr th {\n",
       "        vertical-align: top;\n",
       "    }\n",
       "\n",
       "    .dataframe thead th {\n",
       "        text-align: right;\n",
       "    }\n",
       "</style>\n",
       "<table border=\"1\" class=\"dataframe\">\n",
       "  <thead>\n",
       "    <tr style=\"text-align: right;\">\n",
       "      <th></th>\n",
       "      <th>age</th>\n",
       "      <th>sex</th>\n",
       "      <th>cp</th>\n",
       "      <th>trestbps</th>\n",
       "      <th>chol</th>\n",
       "      <th>fbs</th>\n",
       "      <th>restecg</th>\n",
       "      <th>thalach</th>\n",
       "      <th>exang</th>\n",
       "      <th>oldpeak</th>\n",
       "      <th>ca</th>\n",
       "      <th>thal</th>\n",
       "      <th>slope_downsloping</th>\n",
       "      <th>slope_flat</th>\n",
       "      <th>slope_upsloping</th>\n",
       "      <th>num</th>\n",
       "    </tr>\n",
       "  </thead>\n",
       "  <tbody>\n",
       "    <tr>\n",
       "      <th>0</th>\n",
       "      <td>0.708333</td>\n",
       "      <td>1</td>\n",
       "      <td>1</td>\n",
       "      <td>0.481132</td>\n",
       "      <td>0.244292</td>\n",
       "      <td>1</td>\n",
       "      <td>2</td>\n",
       "      <td>0.603053</td>\n",
       "      <td>0</td>\n",
       "      <td>2.3</td>\n",
       "      <td>0.0</td>\n",
       "      <td>6.0</td>\n",
       "      <td>1.0</td>\n",
       "      <td>0.0</td>\n",
       "      <td>0.0</td>\n",
       "      <td>0</td>\n",
       "    </tr>\n",
       "    <tr>\n",
       "      <th>1</th>\n",
       "      <td>0.791667</td>\n",
       "      <td>1</td>\n",
       "      <td>4</td>\n",
       "      <td>0.622642</td>\n",
       "      <td>0.365297</td>\n",
       "      <td>0</td>\n",
       "      <td>2</td>\n",
       "      <td>0.282443</td>\n",
       "      <td>1</td>\n",
       "      <td>1.5</td>\n",
       "      <td>3.0</td>\n",
       "      <td>3.0</td>\n",
       "      <td>0.0</td>\n",
       "      <td>1.0</td>\n",
       "      <td>0.0</td>\n",
       "      <td>2</td>\n",
       "    </tr>\n",
       "    <tr>\n",
       "      <th>2</th>\n",
       "      <td>0.791667</td>\n",
       "      <td>1</td>\n",
       "      <td>4</td>\n",
       "      <td>0.245283</td>\n",
       "      <td>0.235160</td>\n",
       "      <td>0</td>\n",
       "      <td>2</td>\n",
       "      <td>0.442748</td>\n",
       "      <td>1</td>\n",
       "      <td>2.6</td>\n",
       "      <td>2.0</td>\n",
       "      <td>7.0</td>\n",
       "      <td>0.0</td>\n",
       "      <td>1.0</td>\n",
       "      <td>0.0</td>\n",
       "      <td>1</td>\n",
       "    </tr>\n",
       "    <tr>\n",
       "      <th>3</th>\n",
       "      <td>0.166667</td>\n",
       "      <td>1</td>\n",
       "      <td>3</td>\n",
       "      <td>0.339623</td>\n",
       "      <td>0.283105</td>\n",
       "      <td>0</td>\n",
       "      <td>0</td>\n",
       "      <td>0.885496</td>\n",
       "      <td>0</td>\n",
       "      <td>3.5</td>\n",
       "      <td>0.0</td>\n",
       "      <td>3.0</td>\n",
       "      <td>1.0</td>\n",
       "      <td>0.0</td>\n",
       "      <td>0.0</td>\n",
       "      <td>0</td>\n",
       "    </tr>\n",
       "    <tr>\n",
       "      <th>4</th>\n",
       "      <td>0.250000</td>\n",
       "      <td>0</td>\n",
       "      <td>2</td>\n",
       "      <td>0.339623</td>\n",
       "      <td>0.178082</td>\n",
       "      <td>0</td>\n",
       "      <td>2</td>\n",
       "      <td>0.770992</td>\n",
       "      <td>0</td>\n",
       "      <td>1.4</td>\n",
       "      <td>0.0</td>\n",
       "      <td>3.0</td>\n",
       "      <td>0.0</td>\n",
       "      <td>0.0</td>\n",
       "      <td>1.0</td>\n",
       "      <td>0</td>\n",
       "    </tr>\n",
       "  </tbody>\n",
       "</table>\n",
       "</div>"
      ],
      "text/plain": [
       "        age  sex  cp  trestbps      chol  fbs  restecg   thalach  exang  \\\n",
       "0  0.708333    1   1  0.481132  0.244292    1        2  0.603053      0   \n",
       "1  0.791667    1   4  0.622642  0.365297    0        2  0.282443      1   \n",
       "2  0.791667    1   4  0.245283  0.235160    0        2  0.442748      1   \n",
       "3  0.166667    1   3  0.339623  0.283105    0        0  0.885496      0   \n",
       "4  0.250000    0   2  0.339623  0.178082    0        2  0.770992      0   \n",
       "\n",
       "   oldpeak   ca  thal  slope_downsloping  slope_flat  slope_upsloping  num  \n",
       "0      2.3  0.0   6.0                1.0         0.0              0.0    0  \n",
       "1      1.5  3.0   3.0                0.0         1.0              0.0    2  \n",
       "2      2.6  2.0   7.0                0.0         1.0              0.0    1  \n",
       "3      3.5  0.0   3.0                1.0         0.0              0.0    0  \n",
       "4      1.4  0.0   3.0                0.0         0.0              1.0    0  "
      ]
     },
     "execution_count": 45,
     "metadata": {},
     "output_type": "execute_result"
    }
   ],
   "source": [
    "df = pd.read_csv('../data/cleaned_heart_disease.csv')\n",
    "\n",
    "df.head()"
   ]
  },
  {
   "cell_type": "code",
   "execution_count": 46,
   "id": "8e71e24a",
   "metadata": {},
   "outputs": [
    {
     "name": "stdout",
     "output_type": "stream",
     "text": [
      "0.8255606308389255\n"
     ]
    }
   ],
   "source": [
    "x = df.drop('num', axis=1)\n",
    "y = df['num']\n",
    "\n",
    "x_train, x_test, y_train, y_test = train_test_split(x, y, test_size=0.2, random_state=42)\n",
    "\n",
    "model_randomforest = RandomForestClassifier(n_estimators=100, random_state=42)\n",
    "\n",
    "model_randomforest.fit(x_train, y_train)\n",
    "\n",
    "y_pred = model_randomforest.predict(x_test)\n",
    "\n",
    "print(r2_score(y_test, y_pred))"
   ]
  },
  {
   "cell_type": "code",
   "execution_count": 47,
   "id": "b131c7dc",
   "metadata": {},
   "outputs": [
    {
     "data": {
      "image/png": "[encoded data removed]",
      "text/plain": [
       "<Figure size 1200x600 with 1 Axes>"
      ]
     },
     "metadata": {},
     "output_type": "display_data"
    }
   ],
   "source": [
    "importances = model_randomforest.feature_importances_\n",
    "\n",
    "indices = np.argsort(importances)[::-1]\n",
    "\n",
    "plt.figure(figsize=(12, 6))\n",
    "plt.bar([f'f{i}' for i in indices], importances[indices])\n",
    "plt.title('Importance Features In Random Tree')\n",
    "plt.show()"
   ]
  },
  {
   "cell_type": "code",
   "execution_count": 48,
   "id": "a521175a",
   "metadata": {},
   "outputs": [
    {
     "name": "stdout",
     "output_type": "stream",
     "text": [
      "0.7834545762138386\n"
     ]
    }
   ],
   "source": [
    "model_xgb = xgb.XGBClassifier()\n",
    "\n",
    "model_xgb.fit(x_train, y_train)\n",
    "\n",
    "y_pred = model_xgb.predict(x_test)\n",
    "\n",
    "print(r2_score(y_test, y_pred))"
   ]
  },
  {
   "cell_type": "code",
   "execution_count": 49,
   "id": "2301ec8e",
   "metadata": {},
   "outputs": [
    {
     "data": {
      "image/png": "[encoded data removed]",
      "text/plain": [
       "<Figure size 1200x600 with 1 Axes>"
      ]
     },
     "metadata": {},
     "output_type": "display_data"
    }
   ],
   "source": [
    "importances = model_xgb.feature_importances_\n",
    "\n",
    "indices = np.argsort(importances)[::-1]\n",
    "\n",
    "plt.figure(figsize=(12, 6))\n",
    "plt.bar([f'f{i}' for i in indices], importances[indices])\n",
    "plt.title('Importance Features In Random Tree')\n",
    "plt.show()"
   ]
  },
  {
   "cell_type": "code",
   "execution_count": 50,
   "id": "c0c0cc40",
   "metadata": {},
   "outputs": [
    {
     "name": "stdout",
     "output_type": "stream",
     "text": [
      "Best predictors for RandomForestClassifier: Index(['age', 'trestbps', 'chol', 'thalach', 'oldpeak', 'ca'], dtype='object')\n",
      "\n",
      "Best predictors for XGBOOST: Index(['restecg', 'ca', 'thal', 'slope_downsloping', 'slope_flat',\n",
      "       'slope_upsloping'],\n",
      "      dtype='object')\n"
     ]
    }
   ],
   "source": [
    "selector_randomforest = RFE(model_randomforest, n_features_to_select=6)\n",
    "selector_xgb = RFE(model_xgb, n_features_to_select=6)\n",
    "\n",
    "selector_randomforest = selector_randomforest.fit(x_train, y_train)\n",
    "selector_xgb = selector_xgb.fit(x_train, y_train)\n",
    "\n",
    "print(f'Best predictors for RandomForestClassifier: {x_train.columns[selector_randomforest.support_]}\\n')\n",
    "print(f'Best predictors for XGBOOST: {x_train.columns[selector_xgb.support_]}')"
   ]
  },
  {
   "cell_type": "code",
   "execution_count": 51,
   "id": "e916a84d",
   "metadata": {},
   "outputs": [],
   "source": [
    "scaler = MinMaxScaler()\n",
    "x_scaled = scaler.fit_transform(x)\n",
    "\n",
    "chi2_selector = SelectKBest(score_func=chi2, k=6)\n",
    "X_kbest = chi2_selector.fit_transform(x_scaled, y)"
   ]
  },
  {
   "cell_type": "code",
   "execution_count": 52,
   "id": "8448726a",
   "metadata": {},
   "outputs": [
    {
     "data": {
      "text/html": [
       "<div>\n",
       "<style scoped>\n",
       "    .dataframe tbody tr th:only-of-type {\n",
       "        vertical-align: middle;\n",
       "    }\n",
       "\n",
       "    .dataframe tbody tr th {\n",
       "        vertical-align: top;\n",
       "    }\n",
       "\n",
       "    .dataframe thead th {\n",
       "        text-align: right;\n",
       "    }\n",
       "</style>\n",
       "<table border=\"1\" class=\"dataframe\">\n",
       "  <thead>\n",
       "    <tr style=\"text-align: right;\">\n",
       "      <th></th>\n",
       "      <th>feature</th>\n",
       "      <th>chi2 score</th>\n",
       "      <th>p-value</th>\n",
       "    </tr>\n",
       "  </thead>\n",
       "  <tbody>\n",
       "    <tr>\n",
       "      <th>14</th>\n",
       "      <td>slope_upsloping</td>\n",
       "      <td>134.634594</td>\n",
       "      <td>3.971916e-28</td>\n",
       "    </tr>\n",
       "    <tr>\n",
       "      <th>11</th>\n",
       "      <td>thal</td>\n",
       "      <td>76.446040</td>\n",
       "      <td>9.851319e-16</td>\n",
       "    </tr>\n",
       "    <tr>\n",
       "      <th>10</th>\n",
       "      <td>ca</td>\n",
       "      <td>69.780947</td>\n",
       "      <td>2.524870e-14</td>\n",
       "    </tr>\n",
       "    <tr>\n",
       "      <th>8</th>\n",
       "      <td>exang</td>\n",
       "      <td>49.724638</td>\n",
       "      <td>4.121920e-10</td>\n",
       "    </tr>\n",
       "    <tr>\n",
       "      <th>13</th>\n",
       "      <td>slope_flat</td>\n",
       "      <td>43.942136</td>\n",
       "      <td>6.595802e-09</td>\n",
       "    </tr>\n",
       "    <tr>\n",
       "      <th>9</th>\n",
       "      <td>oldpeak</td>\n",
       "      <td>32.479968</td>\n",
       "      <td>1.526164e-06</td>\n",
       "    </tr>\n",
       "    <tr>\n",
       "      <th>5</th>\n",
       "      <td>fbs</td>\n",
       "      <td>29.703704</td>\n",
       "      <td>5.623448e-06</td>\n",
       "    </tr>\n",
       "    <tr>\n",
       "      <th>6</th>\n",
       "      <td>restecg</td>\n",
       "      <td>22.191294</td>\n",
       "      <td>1.835907e-04</td>\n",
       "    </tr>\n",
       "    <tr>\n",
       "      <th>12</th>\n",
       "      <td>slope_downsloping</td>\n",
       "      <td>16.697861</td>\n",
       "      <td>2.212419e-03</td>\n",
       "    </tr>\n",
       "    <tr>\n",
       "      <th>2</th>\n",
       "      <td>cp</td>\n",
       "      <td>12.516563</td>\n",
       "      <td>1.389622e-02</td>\n",
       "    </tr>\n",
       "  </tbody>\n",
       "</table>\n",
       "</div>"
      ],
      "text/plain": [
       "              feature  chi2 score       p-value\n",
       "14    slope_upsloping  134.634594  3.971916e-28\n",
       "11               thal   76.446040  9.851319e-16\n",
       "10                 ca   69.780947  2.524870e-14\n",
       "8               exang   49.724638  4.121920e-10\n",
       "13         slope_flat   43.942136  6.595802e-09\n",
       "9             oldpeak   32.479968  1.526164e-06\n",
       "5                 fbs   29.703704  5.623448e-06\n",
       "6             restecg   22.191294  1.835907e-04\n",
       "12  slope_downsloping   16.697861  2.212419e-03\n",
       "2                  cp   12.516563  1.389622e-02"
      ]
     },
     "execution_count": 52,
     "metadata": {},
     "output_type": "execute_result"
    }
   ],
   "source": [
    "chi2_scores = chi2_selector.scores_\n",
    "p_values = chi2_selector.pvalues_\n",
    "\n",
    "chi2_df = pd.DataFrame({\n",
    "    \"feature\": x.columns,\n",
    "    \"chi2 score\": chi2_scores,\n",
    "    \"p-value\": p_values\n",
    "}).sort_values(by=\"chi2 score\", ascending=False)\n",
    "\n",
    "chi2_df.head(10)"
   ]
  },
  {
   "cell_type": "code",
   "execution_count": 53,
   "id": "975d989d",
   "metadata": {},
   "outputs": [],
   "source": [
    "df = df[['slope_upsloping', 'thal', 'ca', 'exang', 'slope_flat', 'oldpeak', 'num']]\n",
    "\n",
    "df.to_csv('../data/importance_heart_disease.csv')"
   ]
  }
 ],
 "metadata": {
  "kernelspec": {
   "display_name": "Python 3",
   "language": "python",
   "name": "python3"
  },
  "language_info": {
   "codemirror_mode": {
    "name": "ipython",
    "version": 3
   },
   "file_extension": ".py",
   "mimetype": "text/x-python",
   "name": "python",
   "nbconvert_exporter": "python",
   "pygments_lexer": "ipython3",
   "version": "3.12.0"
  }
 },
 "nbformat": 4,
 "nbformat_minor": 5
}
