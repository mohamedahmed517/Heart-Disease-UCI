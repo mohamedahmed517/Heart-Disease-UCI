{
 "cells": [
  {
   "cell_type": "code",
   "execution_count": 1,
   "id": "a3f6f348",
   "metadata": {},
   "outputs": [],
   "source": [
    "import time\n",
    "import numpy as np\n",
    "import pandas as pd\n",
    "from sklearn.svm import SVC\n",
    "from sklearn.tree import DecisionTreeClassifier\n",
    "from sklearn.ensemble import RandomForestClassifier\n",
    "from sklearn.linear_model import LogisticRegression\n",
    "from sklearn.model_selection import GridSearchCV, RandomizedSearchCV, train_test_split"
   ]
  },
  {
   "cell_type": "code",
   "execution_count": 2,
   "id": "40669595",
   "metadata": {},
   "outputs": [],
   "source": [
    "models = {\n",
    "  'Logistic Regression': LogisticRegression(random_state=42),\n",
    "  'Random Forest': RandomForestClassifier(random_state=42),\n",
    "  'Decision Tree': DecisionTreeClassifier(random_state=42),\n",
    "  'Support Vector Machine': SVC(random_state=42)\n",
    "}"
   ]
  },
  {
   "cell_type": "code",
   "execution_count": 3,
   "id": "bb09953a",
   "metadata": {},
   "outputs": [],
   "source": [
    "params = {\n",
    "\t'Logistic Regression': {\n",
    "\t\t'C': [1,5,10,20],\n",
    "    'max_iter': [1000, 1500]\n",
    "\t},\n",
    "\n",
    "\t'Random Forest': {\n",
    "\t\t'n_estimators': [100, 200, 300],\n",
    "\t\t'criterion': ['gini', 'entropy'],\n",
    "\t\t'max_depth': [None, 10, 20, 30],\n",
    "\t},\n",
    "\n",
    "\t'Decision Tree': {\n",
    "\t\t'max_depth': [2, 3, 5, 10, 20],\n",
    "\t\t'criterion': [\"gini\", \"entropy\"]\n",
    "\t},\n",
    "\n",
    "\t'Support Vector Machine': {\n",
    "\t\t'C': [0.1, 1, 10, 100, 1000],\n",
    "\t\t'gamma': [1, 0.1, 0.01, 0.001, 0.0001],\n",
    "\t\t'kernel': ['rbf','linear']\n",
    "\t}\n",
    "}"
   ]
  },
  {
   "cell_type": "code",
   "execution_count": 4,
   "id": "163214cf",
   "metadata": {},
   "outputs": [
    {
     "data": {
      "text/html": [
       "<div>\n",
       "<style scoped>\n",
       "    .dataframe tbody tr th:only-of-type {\n",
       "        vertical-align: middle;\n",
       "    }\n",
       "\n",
       "    .dataframe tbody tr th {\n",
       "        vertical-align: top;\n",
       "    }\n",
       "\n",
       "    .dataframe thead th {\n",
       "        text-align: right;\n",
       "    }\n",
       "</style>\n",
       "<table border=\"1\" class=\"dataframe\">\n",
       "  <thead>\n",
       "    <tr style=\"text-align: right;\">\n",
       "      <th></th>\n",
       "      <th>age</th>\n",
       "      <th>sex</th>\n",
       "      <th>cp</th>\n",
       "      <th>trestbps</th>\n",
       "      <th>chol</th>\n",
       "      <th>fbs</th>\n",
       "      <th>restecg</th>\n",
       "      <th>thalach</th>\n",
       "      <th>exang</th>\n",
       "      <th>oldpeak</th>\n",
       "      <th>ca</th>\n",
       "      <th>thal</th>\n",
       "      <th>slope_downsloping</th>\n",
       "      <th>slope_flat</th>\n",
       "      <th>slope_upsloping</th>\n",
       "      <th>num</th>\n",
       "    </tr>\n",
       "  </thead>\n",
       "  <tbody>\n",
       "    <tr>\n",
       "      <th>0</th>\n",
       "      <td>0.708333</td>\n",
       "      <td>1</td>\n",
       "      <td>1</td>\n",
       "      <td>0.481132</td>\n",
       "      <td>0.244292</td>\n",
       "      <td>1</td>\n",
       "      <td>2</td>\n",
       "      <td>0.603053</td>\n",
       "      <td>0</td>\n",
       "      <td>2.3</td>\n",
       "      <td>0.0</td>\n",
       "      <td>6.0</td>\n",
       "      <td>1.0</td>\n",
       "      <td>0.0</td>\n",
       "      <td>0.0</td>\n",
       "      <td>0</td>\n",
       "    </tr>\n",
       "    <tr>\n",
       "      <th>1</th>\n",
       "      <td>0.791667</td>\n",
       "      <td>1</td>\n",
       "      <td>4</td>\n",
       "      <td>0.622642</td>\n",
       "      <td>0.365297</td>\n",
       "      <td>0</td>\n",
       "      <td>2</td>\n",
       "      <td>0.282443</td>\n",
       "      <td>1</td>\n",
       "      <td>1.5</td>\n",
       "      <td>3.0</td>\n",
       "      <td>3.0</td>\n",
       "      <td>0.0</td>\n",
       "      <td>1.0</td>\n",
       "      <td>0.0</td>\n",
       "      <td>2</td>\n",
       "    </tr>\n",
       "    <tr>\n",
       "      <th>2</th>\n",
       "      <td>0.791667</td>\n",
       "      <td>1</td>\n",
       "      <td>4</td>\n",
       "      <td>0.245283</td>\n",
       "      <td>0.235160</td>\n",
       "      <td>0</td>\n",
       "      <td>2</td>\n",
       "      <td>0.442748</td>\n",
       "      <td>1</td>\n",
       "      <td>2.6</td>\n",
       "      <td>2.0</td>\n",
       "      <td>7.0</td>\n",
       "      <td>0.0</td>\n",
       "      <td>1.0</td>\n",
       "      <td>0.0</td>\n",
       "      <td>1</td>\n",
       "    </tr>\n",
       "    <tr>\n",
       "      <th>3</th>\n",
       "      <td>0.166667</td>\n",
       "      <td>1</td>\n",
       "      <td>3</td>\n",
       "      <td>0.339623</td>\n",
       "      <td>0.283105</td>\n",
       "      <td>0</td>\n",
       "      <td>0</td>\n",
       "      <td>0.885496</td>\n",
       "      <td>0</td>\n",
       "      <td>3.5</td>\n",
       "      <td>0.0</td>\n",
       "      <td>3.0</td>\n",
       "      <td>1.0</td>\n",
       "      <td>0.0</td>\n",
       "      <td>0.0</td>\n",
       "      <td>0</td>\n",
       "    </tr>\n",
       "    <tr>\n",
       "      <th>4</th>\n",
       "      <td>0.250000</td>\n",
       "      <td>0</td>\n",
       "      <td>2</td>\n",
       "      <td>0.339623</td>\n",
       "      <td>0.178082</td>\n",
       "      <td>0</td>\n",
       "      <td>2</td>\n",
       "      <td>0.770992</td>\n",
       "      <td>0</td>\n",
       "      <td>1.4</td>\n",
       "      <td>0.0</td>\n",
       "      <td>3.0</td>\n",
       "      <td>0.0</td>\n",
       "      <td>0.0</td>\n",
       "      <td>1.0</td>\n",
       "      <td>0</td>\n",
       "    </tr>\n",
       "  </tbody>\n",
       "</table>\n",
       "</div>"
      ],
      "text/plain": [
       "        age  sex  cp  trestbps      chol  fbs  restecg   thalach  exang  \\\n",
       "0  0.708333    1   1  0.481132  0.244292    1        2  0.603053      0   \n",
       "1  0.791667    1   4  0.622642  0.365297    0        2  0.282443      1   \n",
       "2  0.791667    1   4  0.245283  0.235160    0        2  0.442748      1   \n",
       "3  0.166667    1   3  0.339623  0.283105    0        0  0.885496      0   \n",
       "4  0.250000    0   2  0.339623  0.178082    0        2  0.770992      0   \n",
       "\n",
       "   oldpeak   ca  thal  slope_downsloping  slope_flat  slope_upsloping  num  \n",
       "0      2.3  0.0   6.0                1.0         0.0              0.0    0  \n",
       "1      1.5  3.0   3.0                0.0         1.0              0.0    2  \n",
       "2      2.6  2.0   7.0                0.0         1.0              0.0    1  \n",
       "3      3.5  0.0   3.0                1.0         0.0              0.0    0  \n",
       "4      1.4  0.0   3.0                0.0         0.0              1.0    0  "
      ]
     },
     "execution_count": 4,
     "metadata": {},
     "output_type": "execute_result"
    }
   ],
   "source": [
    "df = pd.read_csv('../data/cleaned_heart_disease.csv')\n",
    "\n",
    "df.head()"
   ]
  },
  {
   "cell_type": "code",
   "execution_count": 5,
   "id": "98021023",
   "metadata": {},
   "outputs": [],
   "source": [
    "x = df.iloc[:, :-1].values\n",
    "y = df.iloc[:, -1].values\n",
    "\n",
    "x_train, x_test, y_train, y_test = train_test_split(x, y, test_size=0.2, random_state=42)"
   ]
  },
  {
   "cell_type": "code",
   "execution_count": 6,
   "id": "86305d71",
   "metadata": {},
   "outputs": [],
   "source": [
    "results_gridcv = []\n",
    "\n",
    "def compare_model_gridcv(models, params):\n",
    "\tfor i in range(len(models)):\n",
    "\t\tkey = list(params.keys())[i]\n",
    "\t\thyperparameter = params[key]\n",
    "\t\tclassifier = GridSearchCV(list(models.values())[i], hyperparameter, cv=5)\n",
    "\t\tclassifier.fit(x_train, y_train)\n",
    "\t\tmodel_name = list(models.keys())[i]\n",
    "\t\tbest_score = classifier.best_score_\n",
    "\t\tbest_params = classifier.best_params_\n",
    "\t\tprint(f'Model Selected: {model_name}')\n",
    "\t\tprint(f'Model Best Accuracy: {best_score}')\n",
    "\t\tprint(f'Model Best Parameters: {best_params}')\n",
    "\t\tprint('==========================================================')\n",
    "\t\tresults_gridcv.append([model_name, best_score, best_params])\n",
    "\n",
    "\treturn results_gridcv"
   ]
  },
  {
   "cell_type": "code",
   "execution_count": 7,
   "id": "bb452c9b",
   "metadata": {},
   "outputs": [
    {
     "name": "stdout",
     "output_type": "stream",
     "text": [
      "Model Selected: Logistic Regression\n",
      "Model Best Accuracy: 0.528125\n",
      "Model Best Parameters: {'C': 20, 'max_iter': 1000}\n",
      "==========================================================\n",
      "Model Selected: Random Forest\n",
      "Model Best Accuracy: 0.8453125\n",
      "Model Best Parameters: {'criterion': 'entropy', 'max_depth': None, 'n_estimators': 200}\n",
      "==========================================================\n",
      "Model Selected: Decision Tree\n",
      "Model Best Accuracy: 0.7046875\n",
      "Model Best Parameters: {'criterion': 'entropy', 'max_depth': 20}\n",
      "==========================================================\n",
      "Model Selected: Support Vector Machine\n",
      "Model Best Accuracy: 0.8296875\n",
      "Model Best Parameters: {'C': 1000, 'gamma': 0.1, 'kernel': 'rbf'}\n",
      "==========================================================\n",
      "Time Taken: 1.7 Minute\n"
     ]
    }
   ],
   "source": [
    "start_time = time.time()\n",
    "\n",
    "final_result_gridcv = compare_model_gridcv(models, params)\n",
    "\n",
    "end_time = time.time()\n",
    "\n",
    "print(f'Time Taken: {round((end_time - start_time) / 60, 1)} Minute')"
   ]
  },
  {
   "cell_type": "code",
   "execution_count": 8,
   "id": "f6623a4a",
   "metadata": {},
   "outputs": [],
   "source": [
    "results_randomcv = []\n",
    "\n",
    "def compare_model_randomcv(models, params):\n",
    "\tfor i in range(len(models)):\n",
    "\t\tkey = list(params.keys())[i]\n",
    "\t\thyperparameter = params[key]\n",
    "\t\tclassifier = RandomizedSearchCV(list(models.values())[i], hyperparameter, cv=5)\n",
    "\t\tclassifier.fit(x_train, y_train)\n",
    "\t\tmodel_name = list(models.keys())[i]\n",
    "\t\tbest_score = classifier.best_score_\n",
    "\t\tbest_params = classifier.best_params_\n",
    "\t\tprint(f'Model Selected: {model_name}')\n",
    "\t\tprint(f'Model Best Accuracy: {best_score}')\n",
    "\t\tprint(f'Model Best Parameters: {best_params}')\n",
    "\t\tprint('==========================================================')\n",
    "\t\tresults_randomcv.append([model_name, best_score, best_params])\n",
    "\n",
    "\treturn results_randomcv"
   ]
  },
  {
   "cell_type": "code",
   "execution_count": 9,
   "id": "6acb9d01",
   "metadata": {},
   "outputs": [
    {
     "name": "stdout",
     "output_type": "stream",
     "text": [
      "Model Selected: Logistic Regression\n",
      "Model Best Accuracy: 0.528125\n",
      "Model Best Parameters: {'C': 20, 'max_iter': 1000}\n",
      "==========================================================\n",
      "Model Selected: Random Forest\n",
      "Model Best Accuracy: 0.8453125\n",
      "Model Best Parameters: {'criterion': 'entropy', 'max_depth': None, 'n_estimators': 200}\n",
      "==========================================================\n",
      "Model Selected: Decision Tree\n",
      "Model Best Accuracy: 0.7046875\n",
      "Model Best Parameters: {'criterion': 'entropy', 'max_depth': 20}\n",
      "==========================================================\n",
      "Model Selected: Support Vector Machine\n",
      "Model Best Accuracy: 0.8296875\n",
      "Model Best Parameters: {'C': 1000, 'gamma': 0.1, 'kernel': 'rbf'}\n",
      "==========================================================\n",
      "Time Taken: 1.6 Minute\n"
     ]
    }
   ],
   "source": [
    "start_time = time.time()\n",
    "\n",
    "final_result_gridcv = compare_model_gridcv(models, params)\n",
    "\n",
    "end_time = time.time()\n",
    "\n",
    "print(f'Time Taken: {round((end_time - start_time) / 60, 1)} Minute')"
   ]
  },
  {
   "cell_type": "markdown",
   "id": "aa75c128",
   "metadata": {},
   "source": [
    "#### **Saving Model (pkl format)**"
   ]
  },
  {
   "cell_type": "code",
   "execution_count": 10,
   "id": "cd138625",
   "metadata": {},
   "outputs": [],
   "source": [
    "import joblib\n",
    "from sklearn.metrics import r2_score"
   ]
  },
  {
   "cell_type": "markdown",
   "id": "5658185f",
   "metadata": {},
   "source": [
    "##### **Since Random Forest Classifier Was The Best Model, I Will Used It**"
   ]
  },
  {
   "cell_type": "code",
   "execution_count": 12,
   "id": "20a75d7a",
   "metadata": {},
   "outputs": [
    {
     "name": "stdout",
     "output_type": "stream",
     "text": [
      "Accuracy: 0.8255606308389255\n"
     ]
    },
    {
     "data": {
      "text/plain": [
       "['../models/final_model.pkl']"
      ]
     },
     "execution_count": 12,
     "metadata": {},
     "output_type": "execute_result"
    }
   ],
   "source": [
    "model = RandomForestClassifier(criterion='entropy', max_depth=None, n_estimators=200)\n",
    "\n",
    "model.fit(x_train, y_train)\n",
    "y_pred = model.predict(x_test)\n",
    "\n",
    "print(f'Accuracy: {r2_score(y_test, y_pred)}')\n",
    "\n",
    "joblib.dump(model, \"../models/final_model.pkl\")"
   ]
  }
 ],
 "metadata": {
  "kernelspec": {
   "display_name": "Python 3",
   "language": "python",
   "name": "python3"
  },
  "language_info": {
   "codemirror_mode": {
    "name": "ipython",
    "version": 3
   },
   "file_extension": ".py",
   "mimetype": "text/x-python",
   "name": "python",
   "nbconvert_exporter": "python",
   "pygments_lexer": "ipython3",
   "version": "3.12.0"
  }
 },
 "nbformat": 4,
 "nbformat_minor": 5
}
